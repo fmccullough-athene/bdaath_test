{
 "cells": [
  {
   "cell_type": "code",
   "execution_count": 1,
   "id": "cc06b7db",
   "metadata": {},
   "outputs": [
    {
     "name": "stdout",
     "output_type": "stream",
     "text": [
      "Number of policies only in AILs: 0\n",
      "Number of policies only in ALFA results: 0\n",
      "## End of DAVD Reconciliation ##\n"
     ]
    }
   ],
   "source": [
    "\"\"\" Parameters \"\"\"\n",
    "\n",
    "import create_davd\n",
    "\n",
    "## Preparer\n",
    "preparer = \"Dillon Lucas\"\n",
    "\n",
    "## Dates\n",
    "YYYY = '2021' # Valuation Year\n",
    "MM   = '06' # Valuation Month\n",
    "DD   = '30' # Valuation Day\n",
    "\n",
    "## AILs\n",
    "ail_fa_path = r'M:\\Valuation\\GAAP\\202106JUN\\Files from MDT\\AILs\\VOYA\\FA\\fa_day3_alfa_feed_20210630.ail2'\n",
    "ail_fia_path = r'M:\\Valuation\\GAAP\\202106JUN\\Files from MDT\\AILs\\VOYA\\FIA\\v3 - Production\\fia_day3_alfa_feed_20210630.ail2'\n",
    "\n",
    "## Stat Tax Reserves Model Output\n",
    "voya_stat_path = r'M:\\Valuation\\GAAP\\202106JUN\\Files from MDT\\ALFA Results\\VOYA\\STAT\\06-2021_LiabInv_Stat_EXT_VOYA_BASE_v1014.txt'\n",
    "\n",
    "\n",
    "\"\"\" Execute script \"\"\"\n",
    "\n",
    "import create_davd\n",
    "\n",
    "create_davd.create_davd(YYYY,\n",
    "                        MM,\n",
    "                        DD,\n",
    "                        ail_fa_path,\n",
    "                        ail_fia_path,\n",
    "                        voya_stat_path,\n",
    "                        preparer)\n",
    "        \n"
   ]
  },
  {
   "cell_type": "code",
   "execution_count": null,
   "id": "dc267396",
   "metadata": {},
   "outputs": [],
   "source": []
  }
 ],
 "metadata": {
  "kernelspec": {
   "display_name": "Python 3",
   "language": "python",
   "name": "python3"
  },
  "language_info": {
   "codemirror_mode": {
    "name": "ipython",
    "version": 3
   },
   "file_extension": ".py",
   "mimetype": "text/x-python",
   "name": "python",
   "nbconvert_exporter": "python",
   "pygments_lexer": "ipython3",
   "version": "3.8.6"
  }
 },
 "nbformat": 4,
 "nbformat_minor": 5
}
